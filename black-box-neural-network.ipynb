{
 "cells": [
  {
   "cell_type": "markdown",
   "id": "4483c476",
   "metadata": {
    "papermill": {
     "duration": 0.005491,
     "end_time": "2022-10-21T16:04:14.248806",
     "exception": false,
     "start_time": "2022-10-21T16:04:14.243315",
     "status": "completed"
    },
    "tags": []
   },
   "source": [
    "### <b>Table of Contents:</b>\n",
    " * [Importing Libraries](#first-section)\n",
    " * [Reading Data](#second-section)\n",
    " * [Splitting the dataset](#third-section)\n",
    " * [Scaling the data](#fourth-section)\n",
    " * [Our Prediction](#fifth-section)\n",
    " * [Evaluating our model](#sixth-section)"
   ]
  },
  {
   "cell_type": "markdown",
   "id": "29d65111",
   "metadata": {
    "papermill": {
     "duration": 0.003934,
     "end_time": "2022-10-21T16:04:14.257192",
     "exception": false,
     "start_time": "2022-10-21T16:04:14.253258",
     "status": "completed"
    },
    "tags": []
   },
   "source": [
    "<a id=\"first-section\"></a>\n",
    "### <b>Importing Libraries:</b>"
   ]
  },
  {
   "cell_type": "code",
   "execution_count": 1,
   "id": "7b3f7f8e",
   "metadata": {
    "execution": {
     "iopub.execute_input": "2022-10-21T16:04:14.268258Z",
     "iopub.status.busy": "2022-10-21T16:04:14.267633Z",
     "iopub.status.idle": "2022-10-21T16:04:15.416165Z",
     "shell.execute_reply": "2022-10-21T16:04:15.414884Z"
    },
    "papermill": {
     "duration": 1.157913,
     "end_time": "2022-10-21T16:04:15.419293",
     "exception": false,
     "start_time": "2022-10-21T16:04:14.261380",
     "status": "completed"
    },
    "tags": []
   },
   "outputs": [],
   "source": [
    "import numpy as np \n",
    "import pandas as pd \n",
    "import matplotlib.pyplot as plt\n",
    "\n",
    "from sklearn.model_selection import train_test_split\n",
    "from sklearn.preprocessing import StandardScaler\n",
    "from sklearn.metrics import accuracy_score"
   ]
  },
  {
   "cell_type": "markdown",
   "id": "e89d79c0",
   "metadata": {
    "papermill": {
     "duration": 0.00449,
     "end_time": "2022-10-21T16:04:15.428423",
     "exception": false,
     "start_time": "2022-10-21T16:04:15.423933",
     "status": "completed"
    },
    "tags": []
   },
   "source": [
    "<a id=\"second-section\"></a>\n",
    "## <b>Reading Dataset:</b>"
   ]
  },
  {
   "cell_type": "code",
   "execution_count": 2,
   "id": "13ae38ee",
   "metadata": {
    "execution": {
     "iopub.execute_input": "2022-10-21T16:04:15.439329Z",
     "iopub.status.busy": "2022-10-21T16:04:15.438915Z",
     "iopub.status.idle": "2022-10-21T16:04:15.462733Z",
     "shell.execute_reply": "2022-10-21T16:04:15.461461Z"
    },
    "papermill": {
     "duration": 0.032616,
     "end_time": "2022-10-21T16:04:15.465464",
     "exception": false,
     "start_time": "2022-10-21T16:04:15.432848",
     "status": "completed"
    },
    "tags": []
   },
   "outputs": [],
   "source": [
    "df = pd.read_csv(\"../input/heart-attack/Heart Attack Data Set.csv\")"
   ]
  },
  {
   "cell_type": "code",
   "execution_count": 3,
   "id": "0dfa9a8c",
   "metadata": {
    "execution": {
     "iopub.execute_input": "2022-10-21T16:04:15.476093Z",
     "iopub.status.busy": "2022-10-21T16:04:15.475632Z",
     "iopub.status.idle": "2022-10-21T16:04:15.500317Z",
     "shell.execute_reply": "2022-10-21T16:04:15.499152Z"
    },
    "papermill": {
     "duration": 0.033537,
     "end_time": "2022-10-21T16:04:15.503499",
     "exception": false,
     "start_time": "2022-10-21T16:04:15.469962",
     "status": "completed"
    },
    "tags": []
   },
   "outputs": [
    {
     "data": {
      "text/html": [
       "<div>\n",
       "<style scoped>\n",
       "    .dataframe tbody tr th:only-of-type {\n",
       "        vertical-align: middle;\n",
       "    }\n",
       "\n",
       "    .dataframe tbody tr th {\n",
       "        vertical-align: top;\n",
       "    }\n",
       "\n",
       "    .dataframe thead th {\n",
       "        text-align: right;\n",
       "    }\n",
       "</style>\n",
       "<table border=\"1\" class=\"dataframe\">\n",
       "  <thead>\n",
       "    <tr style=\"text-align: right;\">\n",
       "      <th></th>\n",
       "      <th>age</th>\n",
       "      <th>sex</th>\n",
       "      <th>cp</th>\n",
       "      <th>trestbps</th>\n",
       "      <th>chol</th>\n",
       "      <th>fbs</th>\n",
       "      <th>restecg</th>\n",
       "      <th>thalach</th>\n",
       "      <th>exang</th>\n",
       "      <th>oldpeak</th>\n",
       "      <th>slope</th>\n",
       "      <th>ca</th>\n",
       "      <th>thal</th>\n",
       "      <th>target</th>\n",
       "    </tr>\n",
       "  </thead>\n",
       "  <tbody>\n",
       "    <tr>\n",
       "      <th>0</th>\n",
       "      <td>63</td>\n",
       "      <td>1</td>\n",
       "      <td>3</td>\n",
       "      <td>145</td>\n",
       "      <td>233</td>\n",
       "      <td>1</td>\n",
       "      <td>0</td>\n",
       "      <td>150</td>\n",
       "      <td>0</td>\n",
       "      <td>2.3</td>\n",
       "      <td>0</td>\n",
       "      <td>0</td>\n",
       "      <td>1</td>\n",
       "      <td>1</td>\n",
       "    </tr>\n",
       "    <tr>\n",
       "      <th>1</th>\n",
       "      <td>37</td>\n",
       "      <td>1</td>\n",
       "      <td>2</td>\n",
       "      <td>130</td>\n",
       "      <td>250</td>\n",
       "      <td>0</td>\n",
       "      <td>1</td>\n",
       "      <td>187</td>\n",
       "      <td>0</td>\n",
       "      <td>3.5</td>\n",
       "      <td>0</td>\n",
       "      <td>0</td>\n",
       "      <td>2</td>\n",
       "      <td>1</td>\n",
       "    </tr>\n",
       "    <tr>\n",
       "      <th>2</th>\n",
       "      <td>41</td>\n",
       "      <td>0</td>\n",
       "      <td>1</td>\n",
       "      <td>130</td>\n",
       "      <td>204</td>\n",
       "      <td>0</td>\n",
       "      <td>0</td>\n",
       "      <td>172</td>\n",
       "      <td>0</td>\n",
       "      <td>1.4</td>\n",
       "      <td>2</td>\n",
       "      <td>0</td>\n",
       "      <td>2</td>\n",
       "      <td>1</td>\n",
       "    </tr>\n",
       "    <tr>\n",
       "      <th>3</th>\n",
       "      <td>56</td>\n",
       "      <td>1</td>\n",
       "      <td>1</td>\n",
       "      <td>120</td>\n",
       "      <td>236</td>\n",
       "      <td>0</td>\n",
       "      <td>1</td>\n",
       "      <td>178</td>\n",
       "      <td>0</td>\n",
       "      <td>0.8</td>\n",
       "      <td>2</td>\n",
       "      <td>0</td>\n",
       "      <td>2</td>\n",
       "      <td>1</td>\n",
       "    </tr>\n",
       "    <tr>\n",
       "      <th>4</th>\n",
       "      <td>57</td>\n",
       "      <td>0</td>\n",
       "      <td>0</td>\n",
       "      <td>120</td>\n",
       "      <td>354</td>\n",
       "      <td>0</td>\n",
       "      <td>1</td>\n",
       "      <td>163</td>\n",
       "      <td>1</td>\n",
       "      <td>0.6</td>\n",
       "      <td>2</td>\n",
       "      <td>0</td>\n",
       "      <td>2</td>\n",
       "      <td>1</td>\n",
       "    </tr>\n",
       "  </tbody>\n",
       "</table>\n",
       "</div>"
      ],
      "text/plain": [
       "   age  sex  cp  trestbps  chol  fbs  restecg  thalach  exang  oldpeak  slope  \\\n",
       "0   63    1   3       145   233    1        0      150      0      2.3      0   \n",
       "1   37    1   2       130   250    0        1      187      0      3.5      0   \n",
       "2   41    0   1       130   204    0        0      172      0      1.4      2   \n",
       "3   56    1   1       120   236    0        1      178      0      0.8      2   \n",
       "4   57    0   0       120   354    0        1      163      1      0.6      2   \n",
       "\n",
       "   ca  thal  target  \n",
       "0   0     1       1  \n",
       "1   0     2       1  \n",
       "2   0     2       1  \n",
       "3   0     2       1  \n",
       "4   0     2       1  "
      ]
     },
     "execution_count": 3,
     "metadata": {},
     "output_type": "execute_result"
    }
   ],
   "source": [
    "df.head()"
   ]
  },
  {
   "cell_type": "code",
   "execution_count": 4,
   "id": "384f1331",
   "metadata": {
    "execution": {
     "iopub.execute_input": "2022-10-21T16:04:15.515342Z",
     "iopub.status.busy": "2022-10-21T16:04:15.514309Z",
     "iopub.status.idle": "2022-10-21T16:04:15.540548Z",
     "shell.execute_reply": "2022-10-21T16:04:15.539058Z"
    },
    "papermill": {
     "duration": 0.03476,
     "end_time": "2022-10-21T16:04:15.543076",
     "exception": false,
     "start_time": "2022-10-21T16:04:15.508316",
     "status": "completed"
    },
    "tags": []
   },
   "outputs": [
    {
     "name": "stdout",
     "output_type": "stream",
     "text": [
      "<class 'pandas.core.frame.DataFrame'>\n",
      "RangeIndex: 303 entries, 0 to 302\n",
      "Data columns (total 14 columns):\n",
      " #   Column    Non-Null Count  Dtype  \n",
      "---  ------    --------------  -----  \n",
      " 0   age       303 non-null    int64  \n",
      " 1   sex       303 non-null    int64  \n",
      " 2   cp        303 non-null    int64  \n",
      " 3   trestbps  303 non-null    int64  \n",
      " 4   chol      303 non-null    int64  \n",
      " 5   fbs       303 non-null    int64  \n",
      " 6   restecg   303 non-null    int64  \n",
      " 7   thalach   303 non-null    int64  \n",
      " 8   exang     303 non-null    int64  \n",
      " 9   oldpeak   303 non-null    float64\n",
      " 10  slope     303 non-null    int64  \n",
      " 11  ca        303 non-null    int64  \n",
      " 12  thal      303 non-null    int64  \n",
      " 13  target    303 non-null    int64  \n",
      "dtypes: float64(1), int64(13)\n",
      "memory usage: 33.3 KB\n"
     ]
    }
   ],
   "source": [
    "df.info()"
   ]
  },
  {
   "cell_type": "markdown",
   "id": "16e48394",
   "metadata": {
    "papermill": {
     "duration": 0.004304,
     "end_time": "2022-10-21T16:04:15.552232",
     "exception": false,
     "start_time": "2022-10-21T16:04:15.547928",
     "status": "completed"
    },
    "tags": []
   },
   "source": [
    "<a id=\"third-section\"></a>\n",
    "### <b>Splitting the dataset:</b>"
   ]
  },
  {
   "cell_type": "code",
   "execution_count": 5,
   "id": "4d314cb4",
   "metadata": {
    "execution": {
     "iopub.execute_input": "2022-10-21T16:04:15.563955Z",
     "iopub.status.busy": "2022-10-21T16:04:15.563277Z",
     "iopub.status.idle": "2022-10-21T16:04:15.570338Z",
     "shell.execute_reply": "2022-10-21T16:04:15.569481Z"
    },
    "papermill": {
     "duration": 0.015381,
     "end_time": "2022-10-21T16:04:15.572544",
     "exception": false,
     "start_time": "2022-10-21T16:04:15.557163",
     "status": "completed"
    },
    "tags": []
   },
   "outputs": [],
   "source": [
    "X = df.drop('target', axis=1)\n",
    "y = df['target']"
   ]
  },
  {
   "cell_type": "code",
   "execution_count": 6,
   "id": "1e3ce89f",
   "metadata": {
    "execution": {
     "iopub.execute_input": "2022-10-21T16:04:15.583710Z",
     "iopub.status.busy": "2022-10-21T16:04:15.583060Z",
     "iopub.status.idle": "2022-10-21T16:04:15.590747Z",
     "shell.execute_reply": "2022-10-21T16:04:15.589485Z"
    },
    "papermill": {
     "duration": 0.016292,
     "end_time": "2022-10-21T16:04:15.593432",
     "exception": false,
     "start_time": "2022-10-21T16:04:15.577140",
     "status": "completed"
    },
    "tags": []
   },
   "outputs": [],
   "source": [
    "x_train,x_test,y_train,y_test = train_test_split(X,y,test_size=0.30,random_state=42)"
   ]
  },
  {
   "cell_type": "markdown",
   "id": "8ba8393b",
   "metadata": {
    "papermill": {
     "duration": 0.00499,
     "end_time": "2022-10-21T16:04:15.604938",
     "exception": false,
     "start_time": "2022-10-21T16:04:15.599948",
     "status": "completed"
    },
    "tags": []
   },
   "source": [
    "<a id=\"fourth-section\"></a>\n",
    "### <b>Scaling the data:</b>"
   ]
  },
  {
   "cell_type": "code",
   "execution_count": 7,
   "id": "b2694ae8",
   "metadata": {
    "execution": {
     "iopub.execute_input": "2022-10-21T16:04:15.618810Z",
     "iopub.status.busy": "2022-10-21T16:04:15.617868Z",
     "iopub.status.idle": "2022-10-21T16:04:15.629382Z",
     "shell.execute_reply": "2022-10-21T16:04:15.627963Z"
    },
    "papermill": {
     "duration": 0.022846,
     "end_time": "2022-10-21T16:04:15.632976",
     "exception": false,
     "start_time": "2022-10-21T16:04:15.610130",
     "status": "completed"
    },
    "tags": []
   },
   "outputs": [],
   "source": [
    "Scaler = StandardScaler() \n",
    "Scaler.fit(x_train)\n",
    "x_train_scaled = Scaler.transform(x_train)\n",
    "x_test_scaled = Scaler.transform(x_test)"
   ]
  },
  {
   "cell_type": "code",
   "execution_count": 8,
   "id": "3b9c4b17",
   "metadata": {
    "execution": {
     "iopub.execute_input": "2022-10-21T16:04:15.645518Z",
     "iopub.status.busy": "2022-10-21T16:04:15.645053Z",
     "iopub.status.idle": "2022-10-21T16:04:16.163176Z",
     "shell.execute_reply": "2022-10-21T16:04:16.162055Z"
    },
    "papermill": {
     "duration": 0.528123,
     "end_time": "2022-10-21T16:04:16.167100",
     "exception": false,
     "start_time": "2022-10-21T16:04:15.638977",
     "status": "completed"
    },
    "tags": []
   },
   "outputs": [
    {
     "name": "stdout",
     "output_type": "stream",
     "text": [
      "[0 1 1 0 1 1 1 0 0 0]\n"
     ]
    },
    {
     "name": "stderr",
     "output_type": "stream",
     "text": [
      "/opt/conda/lib/python3.7/site-packages/sklearn/neural_network/_multilayer_perceptron.py:696: ConvergenceWarning: Stochastic Optimizer: Maximum iterations (200) reached and the optimization hasn't converged yet.\n",
      "  ConvergenceWarning,\n"
     ]
    }
   ],
   "source": [
    "from sklearn.neural_network import MLPClassifier \n",
    "MLPC = MLPClassifier().fit(x_train_scaled,y_train) \n",
    "y_prediction = MLPC.predict(x_test_scaled) \n",
    "print(y_prediction[:10]) "
   ]
  },
  {
   "cell_type": "markdown",
   "id": "6c877f47",
   "metadata": {
    "papermill": {
     "duration": 0.009129,
     "end_time": "2022-10-21T16:04:16.186386",
     "exception": false,
     "start_time": "2022-10-21T16:04:16.177257",
     "status": "completed"
    },
    "tags": []
   },
   "source": [
    "<a id=\"fifth-section\"></a>\n",
    "### <b>Predictions:</b>"
   ]
  },
  {
   "cell_type": "code",
   "execution_count": 9,
   "id": "a6e71a01",
   "metadata": {
    "execution": {
     "iopub.execute_input": "2022-10-21T16:04:16.219368Z",
     "iopub.status.busy": "2022-10-21T16:04:16.218813Z",
     "iopub.status.idle": "2022-10-21T16:04:16.240031Z",
     "shell.execute_reply": "2022-10-21T16:04:16.238789Z"
    },
    "papermill": {
     "duration": 0.03802,
     "end_time": "2022-10-21T16:04:16.244013",
     "exception": false,
     "start_time": "2022-10-21T16:04:16.205993",
     "status": "completed"
    },
    "tags": []
   },
   "outputs": [
    {
     "data": {
      "text/html": [
       "<div>\n",
       "<style scoped>\n",
       "    .dataframe tbody tr th:only-of-type {\n",
       "        vertical-align: middle;\n",
       "    }\n",
       "\n",
       "    .dataframe tbody tr th {\n",
       "        vertical-align: top;\n",
       "    }\n",
       "\n",
       "    .dataframe thead th {\n",
       "        text-align: right;\n",
       "    }\n",
       "</style>\n",
       "<table border=\"1\" class=\"dataframe\">\n",
       "  <thead>\n",
       "    <tr style=\"text-align: right;\">\n",
       "      <th></th>\n",
       "      <th>Real_Y_Values</th>\n",
       "      <th>Prediction_Y_Values</th>\n",
       "    </tr>\n",
       "  </thead>\n",
       "  <tbody>\n",
       "    <tr>\n",
       "      <th>179</th>\n",
       "      <td>0</td>\n",
       "      <td>0</td>\n",
       "    </tr>\n",
       "    <tr>\n",
       "      <th>228</th>\n",
       "      <td>0</td>\n",
       "      <td>1</td>\n",
       "    </tr>\n",
       "    <tr>\n",
       "      <th>111</th>\n",
       "      <td>1</td>\n",
       "      <td>1</td>\n",
       "    </tr>\n",
       "    <tr>\n",
       "      <th>246</th>\n",
       "      <td>0</td>\n",
       "      <td>0</td>\n",
       "    </tr>\n",
       "    <tr>\n",
       "      <th>60</th>\n",
       "      <td>1</td>\n",
       "      <td>1</td>\n",
       "    </tr>\n",
       "  </tbody>\n",
       "</table>\n",
       "</div>"
      ],
      "text/plain": [
       "     Real_Y_Values  Prediction_Y_Values\n",
       "179              0                    0\n",
       "228              0                    1\n",
       "111              1                    1\n",
       "246              0                    0\n",
       "60               1                    1"
      ]
     },
     "execution_count": 9,
     "metadata": {},
     "output_type": "execute_result"
    }
   ],
   "source": [
    "df_new = pd.DataFrame({'Real_Y_Values':y_test,\n",
    "                       'Prediction_Y_Values':y_prediction})\n",
    "df_new.head()"
   ]
  },
  {
   "cell_type": "markdown",
   "id": "29d39dc4",
   "metadata": {
    "papermill": {
     "duration": 0.007303,
     "end_time": "2022-10-21T16:04:16.261361",
     "exception": false,
     "start_time": "2022-10-21T16:04:16.254058",
     "status": "completed"
    },
    "tags": []
   },
   "source": [
    "<a id=\"sixth-section\"></a>\n",
    "### <b>Evaluating out Model:</b>"
   ]
  },
  {
   "cell_type": "code",
   "execution_count": 10,
   "id": "ab5d7cfb",
   "metadata": {
    "execution": {
     "iopub.execute_input": "2022-10-21T16:04:16.279053Z",
     "iopub.status.busy": "2022-10-21T16:04:16.278660Z",
     "iopub.status.idle": "2022-10-21T16:04:16.286440Z",
     "shell.execute_reply": "2022-10-21T16:04:16.285285Z"
    },
    "papermill": {
     "duration": 0.019415,
     "end_time": "2022-10-21T16:04:16.288749",
     "exception": false,
     "start_time": "2022-10-21T16:04:16.269334",
     "status": "completed"
    },
    "tags": []
   },
   "outputs": [
    {
     "data": {
      "text/plain": [
       "0.8461538461538461"
      ]
     },
     "execution_count": 10,
     "metadata": {},
     "output_type": "execute_result"
    }
   ],
   "source": [
    "accuracy_score(y_test,y_prediction)"
   ]
  }
 ],
 "metadata": {
  "kernelspec": {
   "display_name": "Python 3",
   "language": "python",
   "name": "python3"
  },
  "language_info": {
   "codemirror_mode": {
    "name": "ipython",
    "version": 3
   },
   "file_extension": ".py",
   "mimetype": "text/x-python",
   "name": "python",
   "nbconvert_exporter": "python",
   "pygments_lexer": "ipython3",
   "version": "3.7.12"
  },
  "papermill": {
   "default_parameters": {},
   "duration": 11.701091,
   "end_time": "2022-10-21T16:04:17.017821",
   "environment_variables": {},
   "exception": null,
   "input_path": "__notebook__.ipynb",
   "output_path": "__notebook__.ipynb",
   "parameters": {},
   "start_time": "2022-10-21T16:04:05.316730",
   "version": "2.3.4"
  }
 },
 "nbformat": 4,
 "nbformat_minor": 5
}
