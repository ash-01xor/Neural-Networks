{
 "cells": [
  {
   "cell_type": "markdown",
   "id": "4b00f709",
   "metadata": {
    "papermill": {
     "duration": 0.00644,
     "end_time": "2022-10-21T16:03:59.775155",
     "exception": false,
     "start_time": "2022-10-21T16:03:59.768715",
     "status": "completed"
    },
    "tags": []
   },
   "source": [
    "## <b>Table of Contents:</b>\n",
    " * [Importing Libraries](#first-section)\n",
    " * [Reading Data](#second-section)\n",
    " * [Splitting the dataset](#third-section)\n",
    " * [Function for NN](#fourth-section)\n",
    " * [Our Prediction](#fifth-section)\n",
    " * [Evaluating our model](#sixth-section)"
   ]
  },
  {
   "cell_type": "markdown",
   "id": "c44b23b1",
   "metadata": {
    "papermill": {
     "duration": 0.005001,
     "end_time": "2022-10-21T16:03:59.786010",
     "exception": false,
     "start_time": "2022-10-21T16:03:59.781009",
     "status": "completed"
    },
    "tags": []
   },
   "source": [
    "<a id=\"first-section\"></a>\n",
    "### <b>Importing Libraries:</b>"
   ]
  },
  {
   "cell_type": "code",
   "execution_count": 1,
   "id": "2658fdb3",
   "metadata": {
    "execution": {
     "iopub.execute_input": "2022-10-21T16:03:59.799018Z",
     "iopub.status.busy": "2022-10-21T16:03:59.798506Z",
     "iopub.status.idle": "2022-10-21T16:04:01.242186Z",
     "shell.execute_reply": "2022-10-21T16:04:01.241057Z"
    },
    "papermill": {
     "duration": 1.454043,
     "end_time": "2022-10-21T16:04:01.245338",
     "exception": false,
     "start_time": "2022-10-21T16:03:59.791295",
     "status": "completed"
    },
    "tags": []
   },
   "outputs": [],
   "source": [
    "import pandas as pd\n",
    "import numpy as np\n",
    "import matplotlib.pyplot as plt\n",
    "import seaborn as sns\n",
    "\n",
    "from sklearn.model_selection import train_test_split"
   ]
  },
  {
   "cell_type": "markdown",
   "id": "671b1acf",
   "metadata": {
    "papermill": {
     "duration": 0.005085,
     "end_time": "2022-10-21T16:04:01.256636",
     "exception": false,
     "start_time": "2022-10-21T16:04:01.251551",
     "status": "completed"
    },
    "tags": []
   },
   "source": [
    "<a id=\"second-section\"></a>\n",
    "### <b>Reading the data:</b>"
   ]
  },
  {
   "cell_type": "code",
   "execution_count": 2,
   "id": "85344044",
   "metadata": {
    "execution": {
     "iopub.execute_input": "2022-10-21T16:04:01.269257Z",
     "iopub.status.busy": "2022-10-21T16:04:01.268403Z",
     "iopub.status.idle": "2022-10-21T16:04:01.314692Z",
     "shell.execute_reply": "2022-10-21T16:04:01.313246Z"
    },
    "papermill": {
     "duration": 0.056189,
     "end_time": "2022-10-21T16:04:01.318145",
     "exception": false,
     "start_time": "2022-10-21T16:04:01.261956",
     "status": "completed"
    },
    "tags": []
   },
   "outputs": [
    {
     "data": {
      "text/html": [
       "<div>\n",
       "<style scoped>\n",
       "    .dataframe tbody tr th:only-of-type {\n",
       "        vertical-align: middle;\n",
       "    }\n",
       "\n",
       "    .dataframe tbody tr th {\n",
       "        vertical-align: top;\n",
       "    }\n",
       "\n",
       "    .dataframe thead th {\n",
       "        text-align: right;\n",
       "    }\n",
       "</style>\n",
       "<table border=\"1\" class=\"dataframe\">\n",
       "  <thead>\n",
       "    <tr style=\"text-align: right;\">\n",
       "      <th></th>\n",
       "      <th>age</th>\n",
       "      <th>sex</th>\n",
       "      <th>cp</th>\n",
       "      <th>trestbps</th>\n",
       "      <th>chol</th>\n",
       "      <th>fbs</th>\n",
       "      <th>restecg</th>\n",
       "      <th>thalach</th>\n",
       "      <th>exang</th>\n",
       "      <th>oldpeak</th>\n",
       "      <th>slope</th>\n",
       "      <th>ca</th>\n",
       "      <th>thal</th>\n",
       "      <th>target</th>\n",
       "    </tr>\n",
       "  </thead>\n",
       "  <tbody>\n",
       "    <tr>\n",
       "      <th>0</th>\n",
       "      <td>63</td>\n",
       "      <td>1</td>\n",
       "      <td>3</td>\n",
       "      <td>145</td>\n",
       "      <td>233</td>\n",
       "      <td>1</td>\n",
       "      <td>0</td>\n",
       "      <td>150</td>\n",
       "      <td>0</td>\n",
       "      <td>2.3</td>\n",
       "      <td>0</td>\n",
       "      <td>0</td>\n",
       "      <td>1</td>\n",
       "      <td>1</td>\n",
       "    </tr>\n",
       "    <tr>\n",
       "      <th>1</th>\n",
       "      <td>37</td>\n",
       "      <td>1</td>\n",
       "      <td>2</td>\n",
       "      <td>130</td>\n",
       "      <td>250</td>\n",
       "      <td>0</td>\n",
       "      <td>1</td>\n",
       "      <td>187</td>\n",
       "      <td>0</td>\n",
       "      <td>3.5</td>\n",
       "      <td>0</td>\n",
       "      <td>0</td>\n",
       "      <td>2</td>\n",
       "      <td>1</td>\n",
       "    </tr>\n",
       "    <tr>\n",
       "      <th>2</th>\n",
       "      <td>41</td>\n",
       "      <td>0</td>\n",
       "      <td>1</td>\n",
       "      <td>130</td>\n",
       "      <td>204</td>\n",
       "      <td>0</td>\n",
       "      <td>0</td>\n",
       "      <td>172</td>\n",
       "      <td>0</td>\n",
       "      <td>1.4</td>\n",
       "      <td>2</td>\n",
       "      <td>0</td>\n",
       "      <td>2</td>\n",
       "      <td>1</td>\n",
       "    </tr>\n",
       "    <tr>\n",
       "      <th>3</th>\n",
       "      <td>56</td>\n",
       "      <td>1</td>\n",
       "      <td>1</td>\n",
       "      <td>120</td>\n",
       "      <td>236</td>\n",
       "      <td>0</td>\n",
       "      <td>1</td>\n",
       "      <td>178</td>\n",
       "      <td>0</td>\n",
       "      <td>0.8</td>\n",
       "      <td>2</td>\n",
       "      <td>0</td>\n",
       "      <td>2</td>\n",
       "      <td>1</td>\n",
       "    </tr>\n",
       "    <tr>\n",
       "      <th>4</th>\n",
       "      <td>57</td>\n",
       "      <td>0</td>\n",
       "      <td>0</td>\n",
       "      <td>120</td>\n",
       "      <td>354</td>\n",
       "      <td>0</td>\n",
       "      <td>1</td>\n",
       "      <td>163</td>\n",
       "      <td>1</td>\n",
       "      <td>0.6</td>\n",
       "      <td>2</td>\n",
       "      <td>0</td>\n",
       "      <td>2</td>\n",
       "      <td>1</td>\n",
       "    </tr>\n",
       "  </tbody>\n",
       "</table>\n",
       "</div>"
      ],
      "text/plain": [
       "   age  sex  cp  trestbps  chol  fbs  restecg  thalach  exang  oldpeak  slope  \\\n",
       "0   63    1   3       145   233    1        0      150      0      2.3      0   \n",
       "1   37    1   2       130   250    0        1      187      0      3.5      0   \n",
       "2   41    0   1       130   204    0        0      172      0      1.4      2   \n",
       "3   56    1   1       120   236    0        1      178      0      0.8      2   \n",
       "4   57    0   0       120   354    0        1      163      1      0.6      2   \n",
       "\n",
       "   ca  thal  target  \n",
       "0   0     1       1  \n",
       "1   0     2       1  \n",
       "2   0     2       1  \n",
       "3   0     2       1  \n",
       "4   0     2       1  "
      ]
     },
     "execution_count": 2,
     "metadata": {},
     "output_type": "execute_result"
    }
   ],
   "source": [
    "df = pd.read_csv(\"../input/heart-attack/Heart Attack Data Set.csv\")\n",
    "df.head()"
   ]
  },
  {
   "cell_type": "code",
   "execution_count": 3,
   "id": "2aaf593b",
   "metadata": {
    "execution": {
     "iopub.execute_input": "2022-10-21T16:04:01.331728Z",
     "iopub.status.busy": "2022-10-21T16:04:01.331314Z",
     "iopub.status.idle": "2022-10-21T16:04:01.347326Z",
     "shell.execute_reply": "2022-10-21T16:04:01.345695Z"
    },
    "papermill": {
     "duration": 0.026125,
     "end_time": "2022-10-21T16:04:01.350245",
     "exception": false,
     "start_time": "2022-10-21T16:04:01.324120",
     "status": "completed"
    },
    "tags": []
   },
   "outputs": [
    {
     "data": {
      "text/plain": [
       "1    165\n",
       "0    138\n",
       "Name: target, dtype: int64"
      ]
     },
     "execution_count": 3,
     "metadata": {},
     "output_type": "execute_result"
    }
   ],
   "source": [
    "df.target.value_counts()"
   ]
  },
  {
   "cell_type": "markdown",
   "id": "07e38262",
   "metadata": {
    "papermill": {
     "duration": 0.005404,
     "end_time": "2022-10-21T16:04:01.361337",
     "exception": false,
     "start_time": "2022-10-21T16:04:01.355933",
     "status": "completed"
    },
    "tags": []
   },
   "source": [
    "<a id=\"third-section\"></a>\n",
    "### <b>Splitting the data:</b>"
   ]
  },
  {
   "cell_type": "code",
   "execution_count": 4,
   "id": "8a1344de",
   "metadata": {
    "execution": {
     "iopub.execute_input": "2022-10-21T16:04:01.375240Z",
     "iopub.status.busy": "2022-10-21T16:04:01.374104Z",
     "iopub.status.idle": "2022-10-21T16:04:01.383814Z",
     "shell.execute_reply": "2022-10-21T16:04:01.382851Z"
    },
    "papermill": {
     "duration": 0.01918,
     "end_time": "2022-10-21T16:04:01.386183",
     "exception": false,
     "start_time": "2022-10-21T16:04:01.367003",
     "status": "completed"
    },
    "tags": []
   },
   "outputs": [],
   "source": [
    "X = df.iloc[:, :-1].values\n",
    "y = df.iloc[:, -1].values.reshape(len(X), 1)"
   ]
  },
  {
   "cell_type": "code",
   "execution_count": 5,
   "id": "2d11a298",
   "metadata": {
    "execution": {
     "iopub.execute_input": "2022-10-21T16:04:01.401103Z",
     "iopub.status.busy": "2022-10-21T16:04:01.400460Z",
     "iopub.status.idle": "2022-10-21T16:04:01.406650Z",
     "shell.execute_reply": "2022-10-21T16:04:01.405779Z"
    },
    "papermill": {
     "duration": 0.016915,
     "end_time": "2022-10-21T16:04:01.409181",
     "exception": false,
     "start_time": "2022-10-21T16:04:01.392266",
     "status": "completed"
    },
    "tags": []
   },
   "outputs": [],
   "source": [
    "X_train, X_test, y_train, y_test = train_test_split(X, y, test_size=0.33, random_state=42)"
   ]
  },
  {
   "cell_type": "code",
   "execution_count": 6,
   "id": "56f9119f",
   "metadata": {
    "execution": {
     "iopub.execute_input": "2022-10-21T16:04:01.423380Z",
     "iopub.status.busy": "2022-10-21T16:04:01.422754Z",
     "iopub.status.idle": "2022-10-21T16:04:01.430237Z",
     "shell.execute_reply": "2022-10-21T16:04:01.429300Z"
    },
    "papermill": {
     "duration": 0.018234,
     "end_time": "2022-10-21T16:04:01.433388",
     "exception": false,
     "start_time": "2022-10-21T16:04:01.415154",
     "status": "completed"
    },
    "tags": []
   },
   "outputs": [
    {
     "name": "stdout",
     "output_type": "stream",
     "text": [
      "Training data input shape (n, m) --> (13, 203)\n",
      "Training data output shape (1, m) --> (1, 203)\n",
      "Test data input shape (n, m) --> (13, 100)\n",
      "Test data output shape (1, m) --> (1, 100)\n"
     ]
    }
   ],
   "source": [
    "X_train = X_train.T\n",
    "y_train = y_train.T\n",
    "X_test = X_test.T\n",
    "y_test = y_test.T\n",
    "print(f\"Training data input shape (n, m) --> {X_train.shape}\")\n",
    "print(f\"Training data output shape (1, m) --> {y_train.shape}\")\n",
    "print(f\"Test data input shape (n, m) --> {X_test.shape}\")\n",
    "print(f\"Test data output shape (1, m) --> {y_test.shape}\")"
   ]
  },
  {
   "cell_type": "markdown",
   "id": "9b5d9bbd",
   "metadata": {
    "papermill": {
     "duration": 0.005322,
     "end_time": "2022-10-21T16:04:01.444608",
     "exception": false,
     "start_time": "2022-10-21T16:04:01.439286",
     "status": "completed"
    },
    "tags": []
   },
   "source": [
    "<a id=\"fourth-section\"></a>\n",
    "### <b>Functions for our Neural Network:</b>"
   ]
  },
  {
   "cell_type": "code",
   "execution_count": 7,
   "id": "b73f61b0",
   "metadata": {
    "execution": {
     "iopub.execute_input": "2022-10-21T16:04:01.457684Z",
     "iopub.status.busy": "2022-10-21T16:04:01.457285Z",
     "iopub.status.idle": "2022-10-21T16:04:01.463704Z",
     "shell.execute_reply": "2022-10-21T16:04:01.462293Z"
    },
    "papermill": {
     "duration": 0.016306,
     "end_time": "2022-10-21T16:04:01.466529",
     "exception": false,
     "start_time": "2022-10-21T16:04:01.450223",
     "status": "completed"
    },
    "tags": []
   },
   "outputs": [],
   "source": [
    "def initialize_weights(n):\n",
    "    w = np.zeros((n, 1))\n",
    "    b = 0\n",
    "    return w, b"
   ]
  },
  {
   "cell_type": "code",
   "execution_count": 8,
   "id": "455d962e",
   "metadata": {
    "execution": {
     "iopub.execute_input": "2022-10-21T16:04:01.482225Z",
     "iopub.status.busy": "2022-10-21T16:04:01.481789Z",
     "iopub.status.idle": "2022-10-21T16:04:01.489792Z",
     "shell.execute_reply": "2022-10-21T16:04:01.488164Z"
    },
    "papermill": {
     "duration": 0.017471,
     "end_time": "2022-10-21T16:04:01.492232",
     "exception": false,
     "start_time": "2022-10-21T16:04:01.474761",
     "status": "completed"
    },
    "tags": []
   },
   "outputs": [],
   "source": [
    "def forward_propagation(X, Y, w, b):\n",
    "    m = len(X)\n",
    "    Z = np.dot(w.T, X) + b\n",
    "    A = 1/(1 + np.exp(-Z))\n",
    "    cost = -(1/m) * np.sum(Y * np.log(A) + (1 - Y) * np.log(1 - A))\n",
    "    \n",
    "    return A, cost"
   ]
  },
  {
   "cell_type": "code",
   "execution_count": 9,
   "id": "5155f933",
   "metadata": {
    "execution": {
     "iopub.execute_input": "2022-10-21T16:04:01.507390Z",
     "iopub.status.busy": "2022-10-21T16:04:01.505784Z",
     "iopub.status.idle": "2022-10-21T16:04:01.514097Z",
     "shell.execute_reply": "2022-10-21T16:04:01.512770Z"
    },
    "papermill": {
     "duration": 0.018525,
     "end_time": "2022-10-21T16:04:01.516705",
     "exception": false,
     "start_time": "2022-10-21T16:04:01.498180",
     "status": "completed"
    },
    "tags": []
   },
   "outputs": [],
   "source": [
    "def backward_propagation(X, Y, A):\n",
    "    m = len(X)\n",
    "    dz = A - Y\n",
    "    dw = (1/m) * np.dot(X, dz.T)\n",
    "    db = (1/m) * np.sum(dz)\n",
    "    return dw, db"
   ]
  },
  {
   "cell_type": "code",
   "execution_count": 10,
   "id": "79dcb740",
   "metadata": {
    "execution": {
     "iopub.execute_input": "2022-10-21T16:04:01.531124Z",
     "iopub.status.busy": "2022-10-21T16:04:01.530377Z",
     "iopub.status.idle": "2022-10-21T16:04:01.539247Z",
     "shell.execute_reply": "2022-10-21T16:04:01.537918Z"
    },
    "papermill": {
     "duration": 0.019329,
     "end_time": "2022-10-21T16:04:01.541845",
     "exception": false,
     "start_time": "2022-10-21T16:04:01.522516",
     "status": "completed"
    },
    "tags": []
   },
   "outputs": [],
   "source": [
    "def optimizer(X, Y, num_iterations = 100, learning_rate = 0.01):\n",
    "    w, b = initialize_weights(X_train.shape[0])\n",
    "    costs = []\n",
    "    for i in range(num_iterations):\n",
    "        A, cost = forward_propagation(X, Y, w, b)\n",
    "        dw, db = backward_propagation(X, Y, A)\n",
    "        w = w - learning_rate * dw        \n",
    "        b = b - learning_rate * db\n",
    "        \n",
    "        costs.append(cost)\n",
    "    return w, b"
   ]
  },
  {
   "cell_type": "code",
   "execution_count": 11,
   "id": "523da1bd",
   "metadata": {
    "execution": {
     "iopub.execute_input": "2022-10-21T16:04:01.556455Z",
     "iopub.status.busy": "2022-10-21T16:04:01.556012Z",
     "iopub.status.idle": "2022-10-21T16:04:01.571654Z",
     "shell.execute_reply": "2022-10-21T16:04:01.570482Z"
    },
    "papermill": {
     "duration": 0.0255,
     "end_time": "2022-10-21T16:04:01.574238",
     "exception": false,
     "start_time": "2022-10-21T16:04:01.548738",
     "status": "completed"
    },
    "tags": []
   },
   "outputs": [
    {
     "name": "stderr",
     "output_type": "stream",
     "text": [
      "/opt/conda/lib/python3.7/site-packages/ipykernel_launcher.py:5: RuntimeWarning: divide by zero encountered in log\n",
      "  \"\"\"\n",
      "/opt/conda/lib/python3.7/site-packages/ipykernel_launcher.py:5: RuntimeWarning: invalid value encountered in multiply\n",
      "  \"\"\"\n",
      "/opt/conda/lib/python3.7/site-packages/ipykernel_launcher.py:4: RuntimeWarning: overflow encountered in exp\n",
      "  after removing the cwd from sys.path.\n"
     ]
    }
   ],
   "source": [
    "w, b = optimizer(X_train, y_train, num_iterations = 100, learning_rate = 0.2)"
   ]
  },
  {
   "cell_type": "code",
   "execution_count": 12,
   "id": "107b889a",
   "metadata": {
    "execution": {
     "iopub.execute_input": "2022-10-21T16:04:01.588348Z",
     "iopub.status.busy": "2022-10-21T16:04:01.587957Z",
     "iopub.status.idle": "2022-10-21T16:04:01.597997Z",
     "shell.execute_reply": "2022-10-21T16:04:01.595366Z"
    },
    "papermill": {
     "duration": 0.023054,
     "end_time": "2022-10-21T16:04:01.603102",
     "exception": false,
     "start_time": "2022-10-21T16:04:01.580048",
     "status": "completed"
    },
    "tags": []
   },
   "outputs": [
    {
     "name": "stderr",
     "output_type": "stream",
     "text": [
      "/opt/conda/lib/python3.7/site-packages/ipykernel_launcher.py:5: RuntimeWarning: overflow encountered in exp\n",
      "  \"\"\"\n"
     ]
    }
   ],
   "source": [
    "def predictions(X, Y, w, b):\n",
    "    preds = np.zeros((1, X.shape[1]))\n",
    "    m = len(X)\n",
    "    Z = np.dot(w.T, X) + b\n",
    "    A = 1/(1 + np.exp(-Z))\n",
    "    for i in range(A.shape[1]):\n",
    "        if A[0][i] >= 0.8:\n",
    "            preds[0][i] = 1\n",
    "        else:\n",
    "            preds[0][i] = 0\n",
    "    return preds\n",
    "            \n",
    "preds = predictions(X_test, y_test, w, b)"
   ]
  },
  {
   "cell_type": "markdown",
   "id": "b4ab4733",
   "metadata": {
    "papermill": {
     "duration": 0.005874,
     "end_time": "2022-10-21T16:04:01.615664",
     "exception": false,
     "start_time": "2022-10-21T16:04:01.609790",
     "status": "completed"
    },
    "tags": []
   },
   "source": [
    "<a id=\"fifth-section\"></a>\n",
    "### <b>Our Predictions:</b>"
   ]
  },
  {
   "cell_type": "code",
   "execution_count": 13,
   "id": "c098e373",
   "metadata": {
    "execution": {
     "iopub.execute_input": "2022-10-21T16:04:01.629526Z",
     "iopub.status.busy": "2022-10-21T16:04:01.629074Z",
     "iopub.status.idle": "2022-10-21T16:04:01.638202Z",
     "shell.execute_reply": "2022-10-21T16:04:01.636836Z"
    },
    "papermill": {
     "duration": 0.019211,
     "end_time": "2022-10-21T16:04:01.640770",
     "exception": false,
     "start_time": "2022-10-21T16:04:01.621559",
     "status": "completed"
    },
    "tags": []
   },
   "outputs": [
    {
     "data": {
      "text/plain": [
       "array([[0., 0., 1., 0., 0., 1., 0., 0., 0., 0., 0., 0., 0., 0., 1., 0.,\n",
       "        1., 0., 0., 0., 0., 0., 0., 0., 0., 0., 0., 0., 0., 0., 0., 0.,\n",
       "        0., 0., 0., 0., 0., 0., 1., 0., 0., 0., 0., 0., 0., 0., 0., 1.,\n",
       "        0., 0., 0., 0., 0., 0., 0., 0., 0., 0., 0., 0., 0., 0., 0., 0.,\n",
       "        0., 0., 0., 0., 0., 0., 1., 0., 0., 1., 0., 0., 0., 0., 0., 0.,\n",
       "        1., 0., 0., 0., 0., 0., 0., 0., 0., 0., 0., 1., 1., 0., 0., 1.,\n",
       "        0., 0., 0., 0.]])"
      ]
     },
     "execution_count": 13,
     "metadata": {},
     "output_type": "execute_result"
    }
   ],
   "source": [
    "preds"
   ]
  },
  {
   "cell_type": "markdown",
   "id": "b3a755ca",
   "metadata": {
    "papermill": {
     "duration": 0.007221,
     "end_time": "2022-10-21T16:04:01.654678",
     "exception": false,
     "start_time": "2022-10-21T16:04:01.647457",
     "status": "completed"
    },
    "tags": []
   },
   "source": [
    "<a id=\"sixth-section\"></a>\n",
    "### <b>Evaluating the model:</b>"
   ]
  },
  {
   "cell_type": "code",
   "execution_count": 14,
   "id": "a73ae8ff",
   "metadata": {
    "execution": {
     "iopub.execute_input": "2022-10-21T16:04:01.668566Z",
     "iopub.status.busy": "2022-10-21T16:04:01.668176Z",
     "iopub.status.idle": "2022-10-21T16:04:01.678761Z",
     "shell.execute_reply": "2022-10-21T16:04:01.677565Z"
    },
    "papermill": {
     "duration": 0.020708,
     "end_time": "2022-10-21T16:04:01.681662",
     "exception": false,
     "start_time": "2022-10-21T16:04:01.660954",
     "status": "completed"
    },
    "tags": []
   },
   "outputs": [
    {
     "data": {
      "text/plain": [
       "54.0"
      ]
     },
     "execution_count": 14,
     "metadata": {},
     "output_type": "execute_result"
    }
   ],
   "source": [
    "accuracy = (len(preds[preds == y_test])/len(y_test[0])) * 100\n",
    "accuracy"
   ]
  }
 ],
 "metadata": {
  "kernelspec": {
   "display_name": "Python 3",
   "language": "python",
   "name": "python3"
  },
  "language_info": {
   "codemirror_mode": {
    "name": "ipython",
    "version": 3
   },
   "file_extension": ".py",
   "mimetype": "text/x-python",
   "name": "python",
   "nbconvert_exporter": "python",
   "pygments_lexer": "ipython3",
   "version": "3.7.12"
  },
  "papermill": {
   "default_parameters": {},
   "duration": 12.567061,
   "end_time": "2022-10-21T16:04:02.510715",
   "environment_variables": {},
   "exception": null,
   "input_path": "__notebook__.ipynb",
   "output_path": "__notebook__.ipynb",
   "parameters": {},
   "start_time": "2022-10-21T16:03:49.943654",
   "version": "2.3.4"
  }
 },
 "nbformat": 4,
 "nbformat_minor": 5
}
